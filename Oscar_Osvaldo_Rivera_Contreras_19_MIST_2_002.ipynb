{
  "nbformat": 4,
  "nbformat_minor": 0,
  "metadata": {
    "colab": {
      "provenance": [],
      "authorship_tag": "ABX9TyMuyGh8bGZEH3SQqXrYQzOa",
      "include_colab_link": true
    },
    "kernelspec": {
      "name": "python3",
      "display_name": "Python 3"
    },
    "language_info": {
      "name": "python"
    }
  },
  "cells": [
    {
      "cell_type": "markdown",
      "metadata": {
        "id": "view-in-github",
        "colab_type": "text"
      },
      "source": [
        "<a href=\"https://colab.research.google.com/github/OscarOsvaldoo/Awesome-Profile-README-templates/blob/master/Oscar_Osvaldo_Rivera_Contreras_19_MIST_2_002.ipynb\" target=\"_parent\"><img src=\"https://colab.research.google.com/assets/colab-badge.svg\" alt=\"Open In Colab\"/></a>"
      ]
    },
    {
      "cell_type": "code",
      "execution_count": 2,
      "metadata": {
        "id": "0pFwtKpTGA-o"
      },
      "outputs": [],
      "source": [
        "# Practica #2\n",
        "\n",
        "## Nombre: Oscar Osvaldo Rivera Contreras.\n",
        "\n",
        "## Matrícula: 19-MIST-2-002\n",
        "\n",
        "## Fecha de entrega: 31 de mayo de 2023\n"
      ]
    },
    {
      "cell_type": "markdown",
      "source": [
        "## 1. Agregue una celda de  código python, en ella creen los campos de formulario en colab para leer las variables correspondientes a nombre apellido y edad, al ejecutar la celda debe visualizarse como resultado la información ingresada en los campos de formulario."
      ],
      "metadata": {
        "id": "2vDOY-LxGYZl"
      }
    },
    {
      "cell_type": "code",
      "source": [
        "nombre = input(\"Nombre: \")\n",
        "apellido = input(\"Apellido: \")\n",
        "edad = int(input(\"Edad: \"))\n",
        "\n",
        "print(\"Información ingresada:\")\n",
        "print(\"Nombre:\", nombre)\n",
        "print(\"Apellido:\", apellido)\n",
        "print(\"Edad:\", edad)\n",
        "\n"
      ],
      "metadata": {
        "colab": {
          "base_uri": "https://localhost:8080/"
        },
        "id": "zpPMBelfKpkF",
        "outputId": "abc8cb0e-0945-43a7-a3c1-d471f270f843"
      },
      "execution_count": 3,
      "outputs": [
        {
          "output_type": "stream",
          "name": "stdout",
          "text": [
            "Nombre: Juan\n",
            "Apellido: Alvarez\n",
            "Edad: 18\n",
            "Información ingresada:\n",
            "Nombre: Juan\n",
            "Apellido: Alvarez\n",
            "Edad: 18\n"
          ]
        }
      ]
    },
    {
      "cell_type": "markdown",
      "source": [
        "## 2. Agregue una celda de código python, que al ejecutarse  muestre como resultado el factorial de un numero entero ingresado a través de un campo de formulario"
      ],
      "metadata": {
        "id": "jNPL40VHGaxe"
      }
    },
    {
      "cell_type": "code",
      "source": [
        "def factorial(n):\n",
        "    if n == 0:\n",
        "        return 1\n",
        "    else:\n",
        "        return n * factorial(n-1)\n",
        "\n",
        "numero = int(input(\"Ingrese un número: \"))\n",
        "resultado = factorial(numero)\n",
        "\n",
        "print(\"El factorial de\", numero, \"es:\", resultado)\n"
      ],
      "metadata": {
        "colab": {
          "base_uri": "https://localhost:8080/"
        },
        "id": "so8Rb2xdLySl",
        "outputId": "a69eaae2-314a-4a8e-8bda-f64e2eaa6284"
      },
      "execution_count": 5,
      "outputs": [
        {
          "output_type": "stream",
          "name": "stdout",
          "text": [
            "Ingrese un número: 1\n",
            "El factorial de 1 es: 1\n"
          ]
        }
      ]
    },
    {
      "cell_type": "markdown",
      "source": [
        "## 3. Agregue una celda de código python, que al ejecutarse  muestre como resultado la tabla de multiplicar de un numero entero ingresado a través de un campo de formulario"
      ],
      "metadata": {
        "id": "RPRpzJjzGdZs"
      }
    },
    {
      "cell_type": "code",
      "source": [
        "numero = int(input(\"Ingrese un número: \"))\n",
        "\n",
        "print(\"Tabla de multiplicar de\", numero)\n",
        "for i in range(1, 11):\n",
        "    resultado = numero * i\n",
        "    print(numero, \"x\", i, \"=\", resultado)\n"
      ],
      "metadata": {
        "colab": {
          "base_uri": "https://localhost:8080/"
        },
        "id": "xTaLjFPuUaD3",
        "outputId": "18e7b8c1-b38b-4877-d96f-45c7f7e11e85"
      },
      "execution_count": 4,
      "outputs": [
        {
          "output_type": "stream",
          "name": "stdout",
          "text": [
            "Ingrese un número: 2\n",
            "Tabla de multiplicar de 2\n",
            "2 x 1 = 2\n",
            "2 x 2 = 4\n",
            "2 x 3 = 6\n",
            "2 x 4 = 8\n",
            "2 x 5 = 10\n",
            "2 x 6 = 12\n",
            "2 x 7 = 14\n",
            "2 x 8 = 16\n",
            "2 x 9 = 18\n",
            "2 x 10 = 20\n"
          ]
        }
      ]
    },
    {
      "cell_type": "markdown",
      "source": [
        "## 4. Agregue una celda de código python, que al ejecutarse  muestre como resultado la tabla de multiplicar de un numero entero ingresado a través de un campo de formulario, pero que solo muestre los resultados de la multiplicación de los números pares."
      ],
      "metadata": {
        "id": "h0Q6-chWGe_t"
      }
    },
    {
      "cell_type": "code",
      "source": [
        "numero = int(input(\"Ingrese un número: \"))\n",
        "\n",
        "print(\"Tabla de multiplicar de números pares hasta\", numero)\n",
        "for i in range(2, numero+1, 2):\n",
        "    print(\"Tabla de multiplicar de\", i)\n",
        "    for j in range(1, 11):\n",
        "        resultado = i * j\n",
        "        print(i, \"x\", j, \"=\", resultado)\n",
        "    print()\n"
      ],
      "metadata": {
        "colab": {
          "base_uri": "https://localhost:8080/"
        },
        "id": "VZf2YOT1Wz6s",
        "outputId": "d6685306-9969-4174-c1fd-aefe351d27c2"
      },
      "execution_count": 7,
      "outputs": [
        {
          "output_type": "stream",
          "name": "stdout",
          "text": [
            "Ingrese un número: 3\n",
            "Tabla de multiplicar de números pares hasta 3\n",
            "Tabla de multiplicar de 2\n",
            "2 x 1 = 2\n",
            "2 x 2 = 4\n",
            "2 x 3 = 6\n",
            "2 x 4 = 8\n",
            "2 x 5 = 10\n",
            "2 x 6 = 12\n",
            "2 x 7 = 14\n",
            "2 x 8 = 16\n",
            "2 x 9 = 18\n",
            "2 x 10 = 20\n",
            "\n"
          ]
        }
      ]
    },
    {
      "cell_type": "markdown",
      "source": [
        "## 5. Agregue una celda de código python, que al ejecutarse  muestre como resultado la tabla de multiplicar de un numero entero ingresado a través de un campo de formulario, pero que solo muestre los resultados de la multiplicación de los números impares."
      ],
      "metadata": {
        "id": "jhEolwyFGg_k"
      }
    },
    {
      "cell_type": "code",
      "source": [
        "numero = int(input(\"Ingrese un número: \"))\n",
        "\n",
        "print(\"Tabla de multiplicar de números impares hasta\", numero)\n",
        "for i in range(1, numero+1):\n",
        "    if i % 2 != 0:\n",
        "        print(\"Tabla de multiplicar de\", i)\n",
        "        for j in range(1, 11):\n",
        "            resultado = i * j\n",
        "            print(i, \"x\", j, \"=\", resultado)\n",
        "        print()\n"
      ],
      "metadata": {
        "colab": {
          "base_uri": "https://localhost:8080/"
        },
        "id": "R9Mk4ljPWZkN",
        "outputId": "5716940b-b80c-4b90-e2e8-9f7ac700b11b"
      },
      "execution_count": 6,
      "outputs": [
        {
          "output_type": "stream",
          "name": "stdout",
          "text": [
            "Ingrese un número: 2\n",
            "Tabla de multiplicar de números impares hasta 2\n",
            "Tabla de multiplicar de 1\n",
            "1 x 1 = 1\n",
            "1 x 2 = 2\n",
            "1 x 3 = 3\n",
            "1 x 4 = 4\n",
            "1 x 5 = 5\n",
            "1 x 6 = 6\n",
            "1 x 7 = 7\n",
            "1 x 8 = 8\n",
            "1 x 9 = 9\n",
            "1 x 10 = 10\n",
            "\n"
          ]
        }
      ]
    },
    {
      "cell_type": "markdown",
      "source": [
        "## 6. Agregue una celda de código python, que al ejecutarse  defina las siguientes funciones:\n",
        "- suma(a,b) que reciba dos números y retorne la suma de los mismos\n",
        "- resta(a,b) que reciba dos números y retorne la resta de los mismos\n",
        "- multiplicacion(a,b) que reciba dos números y retorne la multiplicación de los mismos\n",
        "- division(a,b) que reciba dos números y retorne la división de los mismos\n",
        "- potencia(a,b) que reciba dos números y retorne la potencia de los mismos\n"
      ],
      "metadata": {
        "id": "JKOJw3KcGits"
      }
    },
    {
      "cell_type": "code",
      "source": [
        "def suma(a, b):\n",
        "    return a + b\n",
        "\n",
        "def resta(a, b):\n",
        "    return a - b\n",
        "\n",
        "def multiplicacion(a, b):\n",
        "    return a * b\n",
        "\n",
        "def division(a, b):\n",
        "    if b != 0:\n",
        "        return a / b\n",
        "    else:\n",
        "        print(\"Error: No se puede dividir entre cero.\")\n",
        "\n",
        "def potencia(a, b):\n",
        "    return a ** b\n"
      ],
      "metadata": {
        "id": "s-fCGtmIXA9t"
      },
      "execution_count": 10,
      "outputs": []
    },
    {
      "cell_type": "markdown",
      "source": [
        "## 7. Agregue una celda de código python, esta debe contar con 3 campos de formulario, en el primero se ingresa un numero entero, en el segundo se ingresa un numero entero, debe se una lista que permita elegir que operacion se va a realizar,  las opciones son las funciones definidas en la celda anterior, al ejecutarse la celda debe mostrar como resultado la operación seleccionada con los dos números ingresados."
      ],
      "metadata": {
        "id": "NrhYKC7PGmNM"
      }
    },
    {
      "cell_type": "code",
      "source": [
        "import ipywidgets as widgets\n",
        "\n",
        "# Funciones de operaciones\n",
        "def suma(a, b):\n",
        "    return a + b\n",
        "\n",
        "def resta(a, b):\n",
        "    return a - b\n",
        "\n",
        "def multiplicacion(a, b):\n",
        "    return a * b\n",
        "\n",
        "def division(a, b):\n",
        "    if b != 0:\n",
        "        return a / b\n",
        "    else:\n",
        "        print(\"Error: No se puede dividir entre cero.\")\n",
        "\n",
        "def potencia(a, b):\n",
        "    return a ** b\n",
        "\n",
        "# Campos de formulario\n",
        "numero1 = widgets.IntText(description='Número 1:')\n",
        "numero2 = widgets.IntText(description='Número 2:')\n",
        "operacion = widgets.Dropdown(options=['Suma', 'Resta', 'Multiplicación', 'División', 'Potencia'], description='Operación:')\n",
        "\n",
        "# Función para realizar la operación seleccionada\n",
        "def realizar_operacion(b):\n",
        "    a = numero1.value\n",
        "    b = numero2.value\n",
        "    seleccion = operacion.value\n",
        "    \n",
        "    if seleccion == 'Suma':\n",
        "        resultado = suma(a, b)\n",
        "    elif seleccion == 'Resta':\n",
        "        resultado = resta(a, b)\n",
        "    elif seleccion == 'Multiplicación':\n",
        "        resultado = multiplicacion(a, b)\n",
        "    elif seleccion == 'División':\n",
        "        resultado = division(a, b)\n",
        "    elif seleccion == 'Potencia':\n",
        "        resultado = potencia(a, b)\n",
        "    \n",
        "    print(f\"El resultado de la {seleccion.lower()} entre {a} y {b} es: {resultado}\")\n",
        "\n",
        "# Botón para ejecutar la operación\n",
        "ejecutar = widgets.Button(description='Ejecutar')\n",
        "ejecutar.on_click(realizar_operacion)\n",
        "\n",
        "# Mostrar los campos y el botón\n",
        "widgets.VBox([numero1, numero2, operacion, ejecutar])\n"
      ],
      "metadata": {
        "colab": {
          "base_uri": "https://localhost:8080/"
        },
        "id": "5FbffLqJXN9U",
        "outputId": "ea647af1-fd75-4189-d47f-426260c96003"
      },
      "execution_count": 11,
      "outputs": [
        {
          "output_type": "stream",
          "name": "stdout",
          "text": [
            "Se ha creado el archivo CSV en la siguiente ruta: /content/datos.csv\n"
          ]
        }
      ]
    },
    {
      "cell_type": "markdown",
      "source": [
        "## 8. Agrega una celda de código Python que, al ejecutarse, cree un archivo de texto CSV con los encabezados \"nombre\", \"apellido\" y \"edad\", y lo guarde en el disco del entorno de Colab."
      ],
      "metadata": {
        "id": "aKs8KKE1GnLy"
      }
    },
    {
      "cell_type": "code",
      "source": [
        "import csv\n",
        "\n",
        "# Datos de ejemplo\n",
        "datos = [\n",
        "    {\"nombre\": \"Juan\", \"apellido\": \"Pérez\", \"edad\": 25},\n",
        "    {\"nombre\": \"María\", \"apellido\": \"Gómez\", \"edad\": 30},\n",
        "    {\"nombre\": \"Pedro\", \"apellido\": \"López\", \"edad\": 35}\n",
        "]\n",
        "\n",
        "# Ruta del archivo CSV\n",
        "ruta_archivo = '/content/datos.csv'\n",
        "\n",
        "# Crear y guardar el archivo CSV\n",
        "with open(ruta_archivo, 'w', newline='') as archivo:\n",
        "    campos = ['nombre', 'apellido', 'edad']\n",
        "    escritor_csv = csv.DictWriter(archivo, fieldnames=campos)\n",
        "    escritor_csv.writeheader()\n",
        "    escritor_csv.writerows(datos)\n",
        "\n",
        "print(f\"Se ha creado el archivo CSV en la siguiente ruta: {ruta_archivo}\")\n"
      ],
      "metadata": {
        "id": "owTRZre3XfI-"
      },
      "execution_count": null,
      "outputs": []
    },
    {
      "cell_type": "markdown",
      "source": [
        "## 9. Agrega una celda de código Python que, al ejecutarse, permita al usuario ingresar datos para el archivo CSV creado anteriormente. Los campos de formulario deben incluir nombre, apellido y edad. El programa debe agregar las entradas ingresadas al archivo CSV."
      ],
      "metadata": {
        "id": "fD65Ru7-Gq4V"
      }
    },
    {
      "cell_type": "code",
      "source": [
        "import csv\n",
        "\n",
        "# Ruta del archivo CSV\n",
        "ruta_archivo = '/content/datos.csv'\n",
        "\n",
        "# Solicitar datos al usuario\n",
        "nombre = input(\"Ingrese el nombre: \")\n",
        "apellido = input(\"Ingrese el apellido: \")\n",
        "edad = input(\"Ingrese la edad: \")\n",
        "\n",
        "# Agregar los datos al archivo CSV\n",
        "with open(ruta_archivo, 'a', newline='') as archivo:\n",
        "    campos = ['nombre', 'apellido', 'edad']\n",
        "    escritor_csv = csv.DictWriter(archivo, fieldnames=campos)\n",
        "    escritor_csv.writerow({'nombre': nombre, 'apellido': apellido, 'edad': edad})\n",
        "\n",
        "print(\"Se han agregado los datos al archivo CSV.\")\n"
      ],
      "metadata": {
        "id": "6NeDUoZyXltg"
      },
      "execution_count": null,
      "outputs": []
    },
    {
      "cell_type": "markdown",
      "source": [
        "## 10. Agrega una celda de código Python que, al ejecutarse, muestre las entradas del archivo CSV creado anteriormente. El programa debe permitir al usuario elegir el campo por el cual se ordenarán las entradas (por ejemplo, nombre, apellido o edad) y mostrar las entradas ordenadas según el campo seleccionado."
      ],
      "metadata": {
        "id": "tj-KNmeZGtBs"
      }
    },
    {
      "cell_type": "code",
      "source": [
        "import csv\n",
        "\n",
        "# Ruta del archivo CSV\n",
        "ruta_archivo = '/content/datos.csv'\n",
        "\n",
        "# Leer los datos del archivo CSV\n",
        "with open(ruta_archivo, 'r') as archivo:\n",
        "    lector_csv = csv.DictReader(archivo)\n",
        "    datos = list(lector_csv)\n",
        "\n",
        "# Solicitar campo de ordenamiento al usuario\n",
        "campo_ordenamiento = input(\"Ingrese el campo por el cual desea ordenar las entradas (nombre, apellido o edad): \")\n",
        "\n",
        "# Ordenar las entradas según el campo seleccionado\n",
        "datos_ordenados = sorted(datos, key=lambda x: x[campo_ordenamiento])\n",
        "\n",
        "# Mostrar las entradas ordenadas\n",
        "for entrada in datos_ordenados:\n",
        "    print(entrada)\n",
        "\n"
      ],
      "metadata": {
        "id": "fFLSp34TXvgK"
      },
      "execution_count": null,
      "outputs": []
    },
    {
      "cell_type": "markdown",
      "source": [],
      "metadata": {
        "id": "C-TPb6eyGnt1"
      }
    }
  ]
}